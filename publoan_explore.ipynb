{
  "nbformat": 4,
  "nbformat_minor": 0,
  "metadata": {
    "colab": {
      "name": "publoan_explore.ipynb",
      "provenance": [],
      "toc_visible": true,
      "mount_file_id": "1E1SjlEuXNSlCDy5KCRPmvuO4WI67hwa1",
      "authorship_tag": "ABX9TyMTegGmCtolA1jlW8dERCqZ",
      "include_colab_link": true
    },
    "kernelspec": {
      "name": "python3",
      "display_name": "Python 3"
    }
  },
  "cells": [
    {
      "cell_type": "markdown",
      "metadata": {
        "id": "view-in-github",
        "colab_type": "text"
      },
      "source": [
        "<a href=\"https://colab.research.google.com/github/xdderekchen/public_loan_data/blob/master/publoan_explore.ipynb\" target=\"_parent\"><img src=\"https://colab.research.google.com/assets/colab-badge.svg\" alt=\"Open In Colab\"/></a>"
      ]
    },
    {
      "cell_type": "markdown",
      "metadata": {
        "id": "zmq3x4rJN7Ts",
        "colab_type": "text"
      },
      "source": [
        "# Driver to process public loan data from FNMA and FRED\n",
        "\n",
        "## set up environment \n",
        "   1. Mount to my google drive for inputs and outputs\n",
        "   2. set up the link to github at https://github.com/xdderekchen/public_loan_data.git\n",
        "\n",
        "For the instruction of link colab with github, please refer to this paperL https://medium.com/@ashwindesilva/how-to-use-google-colaboratory-to-clone-a-github-repository-e07cf8d3d22b"
      ]
    },
    {
      "cell_type": "code",
      "metadata": {
        "id": "moktFI_EIkL8",
        "colab_type": "code",
        "colab": {}
      },
      "source": [
        "# mount to the gdrive\n",
        "from google.colab import drive\n",
        "drive.mount('/content/gdrive')\n",
        "%cd '/content/gdrive/My Drive/mypython/public_loan_data'  \n",
        "###! git clone https://github.com/xdderekchen/public_loan_data.git"
      ],
      "execution_count": 0,
      "outputs": []
    },
    {
      "cell_type": "code",
      "metadata": {
        "id": "_83Vd4ZjEzma",
        "colab_type": "code",
        "colab": {
          "base_uri": "https://localhost:8080/",
          "height": 66
        },
        "outputId": "1a95ec9b-be9b-494c-94c8-265ed85bd15b"
      },
      "source": [
        "%cd '/content/gdrive/My Drive/mypython/public_loan_data' \n",
        "#several git command\n",
        "#! git clone https://github.com/xdderekchen/public_loan_data.git\n",
        "#! git pull\n",
        "! git push  origin master\n"
      ],
      "execution_count": 26,
      "outputs": [
        {
          "output_type": "stream",
          "text": [
            "/content/gdrive/My Drive/mypython/public_loan_data\n",
            "fatal: not a git repository (or any parent up to mount point /content)\n",
            "Stopping at filesystem boundary (GIT_DISCOVERY_ACROSS_FILESYSTEM not set).\n"
          ],
          "name": "stdout"
        }
      ]
    }
  ]
}